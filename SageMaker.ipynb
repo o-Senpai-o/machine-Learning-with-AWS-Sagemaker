{
  "nbformat": 4,
  "nbformat_minor": 0,
  "metadata": {
    "colab": {
      "provenance": [],
      "collapsed_sections": [],
      "toc_visible": true
    },
    "kernelspec": {
      "name": "python3",
      "display_name": "Python 3"
    },
    "language_info": {
      "name": "python"
    }
  },
  "cells": [
    {
      "cell_type": "markdown",
      "source": [
        "\n",
        "# End-to-End Machine Learning using SageMaker"
      ],
      "metadata": {
        "id": "43lt0ZfqdV9H"
      }
    },
    {
      "cell_type": "code",
      "execution_count": null,
      "metadata": {
        "id": "4XZxU6__WvII"
      },
      "outputs": [],
      "source": [
        "# first check the python SDK, we will be suing the 1.72 version. if we dont have the same version \n",
        "# then insatll the right version\n",
        "\n",
        "# boto3 :-> to create, access, manage services like EC2 and S3\n",
        "# execution role that we created in the starting\n",
        "# sys :-> for system variable and environment\n",
        "# Ipython :-> command shell\n",
        "\n",
        "import boto3    \n",
        "import sagemaker\n",
        "from sagemaker import get_execution_role\n",
        "import sys\n",
        "import IPython\n",
        "\n",
        "if int(sagemaker.__version__.split('.')[0]) == 2:\n",
        "    print(\"Installing previous SageMaker Version and restarting the kernel\")\n",
        "    !{sys.executable} -m pip install sagemaker==1.72.0 # or directly !-m pip insatll will also work\n",
        "    IPython.Application.instance().kernel.do_shutdown(True)   # restart the kernel\n",
        "\n",
        "else:\n",
        "    print(\"Version is good\")\n",
        "\n",
        "\n",
        "role = get_execution_role()\n",
        "sess = sagemaker.Session()                    # Manage interactions with the Amazon SageMaker APIs and any other AWS services needed.\n",
        "region = boto3.session.Session().region_name  # get the region where our notebook will be run\n",
        "print(\"Region = {}\".format(region))\n",
        "sm = boto3.Session().client('sagemaker')      # low-level client representing Amazon SageMaker Service"
      ]
    },
    {
      "cell_type": "code",
      "source": [
        "import matplotlib.pyplot as plt\n",
        "import numpy as np\n",
        "import pandas as pd\n",
        "import os\n",
        "from time import sleep, gmtime, strftime\n",
        "import json\n",
        "import time"
      ],
      "metadata": {
        "id": "TqG-6el9dWtc"
      },
      "execution_count": null,
      "outputs": []
    },
    {
      "cell_type": "code",
      "source": [
        "#install sagemaker experiement which keeps tracks of all the experientation we do\n",
        "# like trying different models, datasets, hyperparameters\n",
        "\n",
        "# a experient can have multiple trials, each trials can have multiple jobs like preprocessing jobs,\n",
        "# training jobs etc\n",
        "\n",
        "!pip install sagemaker-experiments \n",
        "\n",
        "from sagemaker.analytics import ExperimentAnalytics\n",
        "from smexperiments.experiment import Experiment\n",
        "from smexperiments.trial import Trial \n",
        "from smexperiments.trial_component import TrialComponent\n",
        "from smexperiments.tracker import Tracker"
      ],
      "metadata": {
        "id": "YcAXbVh18pe5"
      },
      "execution_count": null,
      "outputs": []
    },
    {
      "cell_type": "markdown",
      "source": [
        "### Define the Amazon S3 buckets and folders for the project"
      ],
      "metadata": {
        "id": "N5WfPBzF-_qt"
      }
    },
    {
      "cell_type": "code",
      "source": [
        "rawbucket= sess.default_bucket() # Alternatively you can use our custom bucket here. \n",
        "\n",
        "prefix = 'sagemaker-modelmonitor' # use this prefix to store all files pertaining to this workshop.\n",
        "\n",
        "dataprefix = prefix + '/data'\n",
        "traindataprefix = prefix + '/train_data'\n",
        "testdataprefix = prefix + '/test_data'\n",
        "testdatanolabelprefix = prefix + '/test_data_no_label'\n",
        "trainheaderprefix = prefix + '/train_headers'"
      ],
      "metadata": {
        "id": "b5VPbBU18phM"
      },
      "execution_count": null,
      "outputs": []
    },
    {
      "cell_type": "markdown",
      "source": [
        "### Download the dataset and import it using the pandas library"
      ],
      "metadata": {
        "id": "fbcooHZi_FL-"
      }
    },
    {
      "cell_type": "code",
      "source": [
        "# download the data in the local directory of notebook, here data will not be permananet\n",
        "\n",
        "! wget https://archive.ics.uci.edu/ml/machine-learning-databases/00350/default%20of%20credit%20card%20clients.xls\n",
        "data = pd.read_excel('default of credit card clients.xls', header=1)\n",
        "data = data.drop(columns = ['ID'])\n",
        "data.head()"
      ],
      "metadata": {
        "id": "zCCxKZgB8plM"
      },
      "execution_count": null,
      "outputs": []
    },
    {
      "cell_type": "code",
      "source": [
        "# move the label column in the second column because XGBoost requires the dataset into this format\n",
        "\n",
        "data.rename(columns={\"default payment next month\": \"Label\"}, inplace=True)\n",
        "lbl = data.Label\n",
        "data = pd.concat([lbl, data.drop(columns=['Label'])], axis = 1)\n",
        "data.head()"
      ],
      "metadata": {
        "id": "mq4jcmhN8pnA"
      },
      "execution_count": null,
      "outputs": []
    },
    {
      "cell_type": "markdown",
      "source": [
        "### Upload the CSV dataset into an Amazon S3 bucket"
      ],
      "metadata": {
        "id": "7Xxgnm0i_81O"
      }
    },
    {
      "cell_type": "code",
      "source": [
        "\n",
        "# in the current local directory check if rawdata directory is present or not\n",
        "# if not present the create a new dir and store the current data to this dir\n",
        "if not os.path.exists('rawdata/rawdata.csv'):\n",
        "    !mkdir rawdata\n",
        "    data.to_csv('rawdata/rawdata.csv', index=None)\n",
        "else:\n",
        "    pass\n",
        "    \n",
        "# Upload the raw dataset\n",
        "raw_data_location = sess.upload_data('rawdata', bucket=rawbucket, key_prefix=dataprefix)\n",
        "print(raw_data_location)"
      ],
      "metadata": {
        "id": "ZfORuK3X8po7"
      },
      "execution_count": null,
      "outputs": []
    },
    {
      "cell_type": "markdown",
      "source": [
        "### Process the data using Amazon SageMaker Processing\n",
        "   * *Here we will preprocess our dataset including scaling the columns  and splitting the dataset into train and test dataset.*\n",
        "   * *Sagemaker creates a separate compute instance where our preprocessing will be executed.*\n",
        "   * *sagemaker will create a container which we will have to configure*\n",
        "   * *this container will fetch the data from S3 and will store the output results back into S3*\n",
        "   * *Amazon SageMaker provides a managed container for scikit-learn*"
      ],
      "metadata": {
        "id": "TikmzzQnA6Vn"
      }
    },
    {
      "cell_type": "code",
      "source": [
        "# import the SKLearnProcessor container\n",
        "from sagemaker.sklearn.processing import SKLearnProcessor\n",
        "\n",
        "# configure the container\n",
        "sklearn_processor = SKLearnProcessor(framework_version='0.20.0',    # version of sklearn to use\n",
        "                                     role=role,                     # our execution role that has IAM\n",
        "                                     instance_type='ml.c4.xlarge',  # type of instance to have\n",
        "                                     instance_count=1               # number of instances\n",
        "\n",
        "# when you've o run the container use sklearn_processor.run(inpout from, outout to)"
      ],
      "metadata": {
        "id": "xBAEZdL48pqv"
      },
      "execution_count": null,
      "outputs": []
    },
    {
      "cell_type": "markdown",
      "source": [
        "### create a preprocessing.py file which will be run on preprocessing instance"
      ],
      "metadata": {
        "id": "XKURUFvsCyjp"
      }
    },
    {
      "cell_type": "code",
      "source": [
        "# %%writefile preprocessing.py   # %% is magic commands , this will wrte this current cell data into preprocessing.py file\n",
        "\n",
        "import argparse\n",
        "import os\n",
        "import warnings\n",
        "\n",
        "import pandas as pd\n",
        "import numpy as np\n",
        "\n",
        "from sklearn.model_selection import train_test_split\n",
        "from sklearn.preprocessing import StandardScaler, MinMaxScaler\n",
        "from sklearn.exceptions import DataConversionWarning\n",
        "from sklearn.compose import make_column_transformer\n",
        "\n",
        "warnings.filterwarnings(action='ignore', category=DataConversionWarning)\n",
        "\n",
        "if __name__=='__main__':\n",
        "    parser = argparse.ArgumentParser()\n",
        "    parser.add_argument('--train-test-split-ratio', type=float, default=0.3)\n",
        "    parser.add_argument('--random-split', type=int, default=0)\n",
        "    args, _ = parser.parse_known_args()\n",
        "    \n",
        "    print('Received arguments {}'.format(args))\n",
        "\n",
        "    input_data_path = os.path.join('/opt/ml/processing/input', 'rawdata.csv')\n",
        "    \n",
        "    print('Reading input data from {}'.format(input_data_path))\n",
        "    df = pd.read_csv(input_data_path)\n",
        "    df.sample(frac=1)\n",
        "    \n",
        "    COLS = df.columns\n",
        "    newcolorder = ['PAY_AMT1','BILL_AMT1'] + list(COLS[1:])[:11] + list(COLS[1:])[12:17] + list(COLS[1:])[18:]\n",
        "    \n",
        "    split_ratio = args.train_test_split_ratio\n",
        "    random_state=args.random_split\n",
        "    \n",
        "    X_train, X_test, y_train, y_test = train_test_split(df.drop('Label', axis=1), df['Label'], \n",
        "                                                        test_size=split_ratio, random_state=random_state)\n",
        "    \n",
        "    preprocess = make_column_transformer(\n",
        "        (['PAY_AMT1'], StandardScaler()),\n",
        "        (['BILL_AMT1'], MinMaxScaler()),\n",
        "    remainder='passthrough')\n",
        "    \n",
        "    print('Running preprocessing and feature engineering transformations')\n",
        "    train_features = pd.DataFrame(preprocess.fit_transform(X_train), columns = newcolorder)\n",
        "    test_features = pd.DataFrame(preprocess.transform(X_test), columns = newcolorder)\n",
        "    \n",
        "    # concat to ensure Label column is the first column in dataframe\n",
        "    train_full = pd.concat([pd.DataFrame(y_train.values, columns=['Label']), train_features], axis=1)\n",
        "    test_full = pd.concat([pd.DataFrame(y_test.values, columns=['Label']), test_features], axis=1)\n",
        "    \n",
        "    print('Train data shape after preprocessing: {}'.format(train_features.shape))\n",
        "    print('Test data shape after preprocessing: {}'.format(test_features.shape))\n",
        "    \n",
        "    train_features_headers_output_path = os.path.join('/opt/ml/processing/train_headers', 'train_data_with_headers.csv')\n",
        "    \n",
        "    train_features_output_path = os.path.join('/opt/ml/processing/train', 'train_data.csv')\n",
        "    \n",
        "    test_features_output_path = os.path.join('/opt/ml/processing/test', 'test_data.csv')\n",
        "    \n",
        "    print('Saving training features to {}'.format(train_features_output_path))\n",
        "    train_full.to_csv(train_features_output_path, header=False, index=False)\n",
        "    print(\"Complete\")\n",
        "    \n",
        "    print(\"Save training data with headers to {}\".format(train_features_headers_output_path))\n",
        "    train_full.to_csv(train_features_headers_output_path, index=False)\n",
        "                 \n",
        "    print('Saving test features to {}'.format(test_features_output_path))\n",
        "    test_full.to_csv(test_features_output_path, header=False, index=False)\n",
        "    print(\"Complete\")"
      ],
      "metadata": {
        "id": "L_pIql1b8ps2"
      },
      "execution_count": null,
      "outputs": []
    },
    {
      "cell_type": "markdown",
      "source": [
        "### shift the preprocessing.py file to s3"
      ],
      "metadata": {
        "id": "Rw02DhfPEBDM"
      }
    },
    {
      "cell_type": "markdown",
      "source": [
        "![amazon_sagemaker_processing_image1.png](data:image/png;base64,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)"
      ],
      "metadata": {
        "id": "8rOPuSmYGr__"
      }
    },
    {
      "cell_type": "code",
      "source": [
        "codeprefix = prefix + '/code'\n",
        "codeupload = sess.upload_data('preprocessing.py', bucket=rawbucket, key_prefix=codeprefix)\n",
        "print(codeupload)\n",
        "\n",
        "# similar to this\n",
        "# s3://sagemaker-us-east-2-ACCOUNT_NUMBER/sagemaker-modelmonitor/data"
      ],
      "metadata": {
        "id": "tqLEKNiE8pwf"
      },
      "execution_count": null,
      "outputs": []
    },
    {
      "cell_type": "markdown",
      "source": [
        "### Specify where you want to store your training and test data after the SageMaker Processing job completes. Amazon SageMaker Processing automatically stores the data in the specified location."
      ],
      "metadata": {
        "id": "a5FjUduhEUqH"
      }
    },
    {
      "cell_type": "code",
      "source": [
        "train_data_location = rawbucket + '/' + traindataprefix\n",
        "test_data_location = rawbucket+'/'+testdataprefix\n",
        "print(\"Training data location = {}\".format(train_data_location))\n",
        "print(\"Test data location = {}\".format(test_data_location))"
      ],
      "metadata": {
        "id": "sajh7VWv8pyi"
      },
      "execution_count": null,
      "outputs": []
    },
    {
      "cell_type": "code",
      "source": [
        "from sagemaker.processing import ProcessingInput, ProcessingOutput\n",
        "\n",
        "sklearn_processor.run(code=codeupload,\n",
        "                      inputs=[ProcessingInput(                                                # from where to read the input s3 bucket local\n",
        "                                      source=raw_data_location,\n",
        "                                      destination='/opt/ml/processing/input')],\n",
        "                      outputs=[ProcessingOutput(output_name='train_data',\n",
        "                                                source='/opt/ml/processing/train',\n",
        "                                                destination='s3://' + train_data_location),\n",
        "                               \n",
        "                               ProcessingOutput(output_name='test_data',                      # where to store the train data in s3\n",
        "                                                source='/opt/ml/processing/test',\n",
        "                                               destination=\"s3://\"+test_data_location),\n",
        "                               \n",
        "                               ProcessingOutput(output_name='train_data_headers',\n",
        "                                                source='/opt/ml/processing/train_headers',    # where to store the test data in S3\n",
        "                                               destination=\"s3://\" + rawbucket + '/' + prefix + '/train_headers')],\n",
        "                      arguments=['--train-test-split-ratio', '0.2']\n",
        "                     )\n",
        "\n",
        "preprocessing_job_description = sklearn_processor.jobs[-1].describe()\n",
        "\n",
        "output_config = preprocessing_job_description['ProcessingOutputConfig']\n",
        "for output in output_config['Outputs']:\n",
        "    if output['OutputName'] == 'train_data':\n",
        "        preprocessed_training_data = output['S3Output']['S3Uri']\n",
        "    if output['OutputName'] == 'test_data':\n",
        "        preprocessed_test_data = output['S3Output']['S3Uri']\n"
      ],
      "metadata": {
        "id": "FwwgyiI48p0q"
      },
      "execution_count": null,
      "outputs": []
    },
    {
      "cell_type": "markdown",
      "source": [
        "### Create a SageMaker Experiment\n",
        "  * Now that you have downloaded and staged your dataset in Amazon S3, you can create an Amazon SageMaker Experiment. An experiment is a collection of processing and training jobs related to the same machine learning project. \n",
        "  * Amazon SageMaker Experiments automatically manages and tracks your training runs for you.\n",
        "  * A single experiment can include multiple trials which makes it easy for you to track multiple iterations over time within the Amazon SageMaker Studio Experiments pane."
      ],
      "metadata": {
        "id": "7kVEJRSYHgnf"
      }
    },
    {
      "cell_type": "code",
      "source": [
        "# Create a SageMaker Experiment\n",
        "cc_experiment = Experiment.create(\n",
        "    experiment_name=f\"Build-train-deploy-{int(time.time())}\", \n",
        "    description=\"Predict credit card default from payments data\", \n",
        "    sagemaker_boto_client=sm)\n",
        "print(cc_experiment)\n",
        "\n",
        "\n",
        "# Every training job is logged as a trial. Each trial is an iteration of your end-to-end training job. \n",
        "# In addition to the training job, it can also track pre-processing and post-processing jobs as well as datasets and other metadata"
      ],
      "metadata": {
        "id": "hTplYoKY8p3m"
      },
      "execution_count": null,
      "outputs": []
    },
    {
      "cell_type": "markdown",
      "source": [
        "code to track your pre-processing job under Experiments as well as a step in the training pipeline"
      ],
      "metadata": {
        "id": "A2kU1ZKzIXmL"
      }
    },
    {
      "cell_type": "code",
      "source": [
        "# Start Tracking parameters used in the Pre-processing pipeline.\n",
        "with Tracker.create(display_name=\"Preprocessing\", sagemaker_boto_client=sm) as tracker:\n",
        "    tracker.log_parameters({\n",
        "        \"train_test_split_ratio\": 0.2,\n",
        "        \"random_state\":0\n",
        "    })\n",
        "    # we can log the s3 uri to the dataset we just uploaded\n",
        "    tracker.log_input(name=\"ccdefault-raw-dataset\", media_type=\"s3/uri\", value=raw_data_location)\n",
        "    tracker.log_input(name=\"ccdefault-train-dataset\", media_type=\"s3/uri\", value=train_data_location)\n",
        "    tracker.log_input(name=\"ccdefault-test-dataset\", media_type=\"s3/uri\", value=test_data_location)"
      ],
      "metadata": {
        "id": "YI1HWi7OdWvq"
      },
      "execution_count": null,
      "outputs": []
    },
    {
      "cell_type": "markdown",
      "source": [
        "* *To train an XGBoost classifier, you first **import the XGBoost container maintained by Amazon SageMaker**. Then, you **log the training run under a Trial so SageMaker Experiments can track it under a Trial name**. The **pre-processing job is included under the same trial name** since it is part of the pipeline*\n",
        "* *Next, **create a SageMaker Estimator object**, which automatically provisions/provides the underlying instance type of your choosing, copies over the training data from the specified output location from the processing job, trains the model, and outputs the model artifacts*"
      ],
      "metadata": {
        "id": "a19tTd0MK03T"
      }
    },
    {
      "cell_type": "code",
      "source": [
        "from sagemaker.amazon.amazon_estimator import get_image_uri\n",
        "\n",
        "# get the XGbosst base container image\n",
        "container = get_image_uri(boto3.Session().region_name, 'xgboost', '1.0-1')\n",
        "s3_input_train = sagemaker.s3_input(s3_data='s3://' + train_data_location, content_type='csv')\n",
        "preprocessing_trial_component = tracker.trial_component\n",
        "\n",
        "trial_name = f\"cc-default-training-job-{int(time.time())}\"\n",
        "cc_trial = Trial.create(\n",
        "        trial_name=trial_name, \n",
        "            experiment_name=cc_experiment.experiment_name,\n",
        "        sagemaker_boto_client=sm\n",
        "    )\n",
        "\n",
        "cc_trial.add_trial_component(preprocessing_trial_component)\n",
        "cc_training_job_name = \"cc-training-job-{}\".format(int(time.time()))\n",
        "\n",
        "xgb = sagemaker.estimator.Estimator(container,\n",
        "                                    role, \n",
        "                                    train_instance_count=1, \n",
        "                                    train_instance_type='ml.m4.xlarge',\n",
        "                                    train_max_run=86400,\n",
        "                                    output_path='s3://{}/{}/models'.format(rawbucket, prefix),\n",
        "                                    sagemaker_session=sess) # set to true for distributed training\n",
        "\n",
        "xgb.set_hyperparameters(max_depth=5,\n",
        "                        eta=0.2,\n",
        "                        gamma=4,\n",
        "                        min_child_weight=6,\n",
        "                        subsample=0.8,\n",
        "                        verbosity=0,\n",
        "                        objective='binary:logistic',\n",
        "                        num_round=100)\n",
        "\n",
        "xgb.fit(inputs = {'train':s3_input_train},\n",
        "       job_name=cc_training_job_name,\n",
        "        experiment_config={\n",
        "            \"TrialName\": cc_trial.trial_name, #log training job in Trials for lineage\n",
        "            \"TrialComponentDisplayName\": \"Training\",\n",
        "        },\n",
        "        wait=True,\n",
        "    )\n",
        "time.sleep(2)"
      ],
      "metadata": {
        "id": "zO4kryUqF32m"
      },
      "execution_count": null,
      "outputs": []
    },
    {
      "cell_type": "code",
      "source": [],
      "metadata": {
        "id": "RGDXdOOSF346"
      },
      "execution_count": null,
      "outputs": []
    },
    {
      "cell_type": "code",
      "source": [],
      "metadata": {
        "id": "8wvfelXoF37C"
      },
      "execution_count": null,
      "outputs": []
    },
    {
      "cell_type": "code",
      "source": [],
      "metadata": {
        "id": "_OJ2DyNkF39G"
      },
      "execution_count": null,
      "outputs": []
    },
    {
      "cell_type": "code",
      "source": [],
      "metadata": {
        "id": "2AXi7ieRF3--"
      },
      "execution_count": null,
      "outputs": []
    },
    {
      "cell_type": "code",
      "source": [],
      "metadata": {
        "id": "ljsDPwmeF4Az"
      },
      "execution_count": null,
      "outputs": []
    },
    {
      "cell_type": "code",
      "source": [],
      "metadata": {
        "id": "zDHrzcwTF4ER"
      },
      "execution_count": null,
      "outputs": []
    },
    {
      "cell_type": "code",
      "source": [],
      "metadata": {
        "id": "KToNdLvmF4Gn"
      },
      "execution_count": null,
      "outputs": []
    },
    {
      "cell_type": "code",
      "source": [],
      "metadata": {
        "id": "3CJCqJF_F4IV"
      },
      "execution_count": null,
      "outputs": []
    },
    {
      "cell_type": "code",
      "source": [],
      "metadata": {
        "id": "GwJi_8X2F4Ls"
      },
      "execution_count": null,
      "outputs": []
    },
    {
      "cell_type": "code",
      "source": [],
      "metadata": {
        "id": "SKyzFPGndWxu"
      },
      "execution_count": null,
      "outputs": []
    },
    {
      "cell_type": "markdown",
      "source": [
        "### Deploy the model as EndPoint and establish Data Capture\n",
        "\n",
        "* Data Capture :--> we capture all the inputs that we recieve"
      ],
      "metadata": {
        "id": "LuV8xZ4wdnaj"
      }
    },
    {
      "cell_type": "code",
      "source": [
        "# sm_client.list_training_jobs \n",
        "\n",
        "\n",
        "\n",
        "# will return this\n",
        "\n",
        "# {\n",
        "#     'TrainingJobSummaries': [\n",
        "#         {\n",
        "#             'TrainingJobName': 'string',\n",
        "#             'TrainingJobArn': 'string',\n",
        "#             'CreationTime': datetime(2015, 1, 1),\n",
        "#             'TrainingEndTime': datetime(2015, 1, 1),\n",
        "#             'LastModifiedTime': datetime(2015, 1, 1),\n",
        "#             'TrainingJobStatus': 'InProgress'|'Completed'|'Failed'|'Stopping'|'Stopped'\n",
        "#         },\n",
        "#     ],\n",
        "#     'NextToken': 'string'\n",
        "# }"
      ],
      "metadata": {
        "id": "nfZrNOqGiiep"
      },
      "execution_count": null,
      "outputs": []
    },
    {
      "cell_type": "code",
      "source": [
        "# deploy the model as a RESTful HTTPS endpoint to serve live inferences\n",
        "\n",
        "from sagemaker.model_monitor import DataCaptureConfig\n",
        "from sagemaker import RealTimePredictor\n",
        "from sagemaker.predictor import csv_serializer\n",
        "\n",
        "# create sagemaker client\n",
        "sm_client = boto3.client('sagemaker')\n",
        "\n",
        "# first we list all the training jobs re ran previously, sorting by creation time AND GET ONLY FIRST\n",
        "latest_training_job = sm_client.list_training_jobs(MaxResults=1,\n",
        "                                                SortBy='CreationTime',\n",
        "                                                SortOrder='Descending')\n",
        "\n",
        "# from the training job that we ran previously, we get the trainingJobName\n",
        "training_job_name=TrainingJobName=latest_training_job['TrainingJobSummaries'][0]['TrainingJobName']\n",
        "\n",
        "# contains all the information regarting the training job, like container uri image, model , etc etc\n",
        "training_job_description = sm_client.describe_training_job(TrainingJobName=training_job_name)\n",
        "\n",
        "\n",
        "\n",
        "# 1) Provides information about the location that is configured for storing model artifacts.\n",
        "\n",
        "# 2) Model artifacts are the output that results from training a model, \n",
        "#    and typically consist of trained parameters, a model definition that describes how to compute inferences, \n",
        "#    and other metadata\n",
        "\n",
        "model_data = training_job_description['ModelArtifacts']['S3ModelArtifacts']\n",
        "\n",
        "# The registry path of the Docker image that contains the training algorithm\n",
        "container_uri = training_job_description['AlgorithmSpecification']['TrainingImage']  \n",
        "\n",
        "# create a model.\n",
        "def create_model(role, model_name, container_uri, model_data):\n",
        "    return sm_client.create_model(\n",
        "        ModelName=model_name,\n",
        "        PrimaryContainer={\n",
        "        'Image': container_uri,\n",
        "        'ModelDataUrl': model_data,\n",
        "        },\n",
        "        ExecutionRoleArn=role)\n",
        "    \n",
        "\n",
        "try:\n",
        "    model = create_model(role, training_job_name, container_uri, model_data)\n",
        "except Exception as e:\n",
        "        sm_client.delete_model(ModelName=training_job_name)\n",
        "        model = create_model(role, training_job_name, container_uri, model_data)\n",
        "        \n",
        "\n",
        "print('Model created: '+model['ModelArn'])\n",
        "\n",
        "\n",
        "\n",
        "# if you run the same cell twice you'll get you are trying to create an model which is already created\n",
        "# so we delete the model and create again when error pops up\n",
        "# thata why try: except"
      ],
      "metadata": {
        "id": "VSic8T0QdWzo"
      },
      "execution_count": null,
      "outputs": []
    },
    {
      "cell_type": "markdown",
      "source": [
        "* Data Capture\n",
        "  * *This code tells SageMaker to capture 100% of the inference payloads received by the endpoint, capture both inputs and outputs, and also note the input content type as csv.*\n",
        "  * *To log the inputs to your endpoint and the inference outputs from SageMaker Real-time endpoints to Amazon S3, you can enable a feature called Data Capture*\n",
        "  * *Amazon SageMaker Model Monitor automatically parses this captured data and compares metrics from this data with a baseline that you create for the model*\n",
        "  \n",
        "  \n",
        "* *To capture data, you **must deploy a model using SageMaker hosting services**. This requires that you create a SageMaker model, define an endpoint configuration, and create an HTTPS endpoint*\n",
        "\n",
        "  * *define the **DataCaptureConfig dictionary**, along with required fields, **within the CreateEndpointConfig method to enable data capture.***\n",
        "\n",
        "  "
      ],
      "metadata": {
        "id": "NwfmPXaOjeap"
      }
    },
    {
      "cell_type": "code",
      "source": [
        "# Destination where we will be uploading our captures (lie input and output)\n",
        "s3_capture_upload_path = 's3://{}/{}/monitoring/datacapture'.format(rawbucket, prefix)\n",
        "\n",
        "\n",
        "# this config will be used when creating a model encpoint configuration\n",
        "data_capture_configuration = {\n",
        "    \"EnableCapture\": True,        \n",
        "    \"InitialSamplingPercentage\": 100,           # capture 100 % of the data\n",
        "    \"DestinationS3Uri\": s3_capture_upload_path, # destination of S3\n",
        "    \"CaptureOptions\": [                         \n",
        "        { \"CaptureMode\": \"Output\" },            # \n",
        "        { \"CaptureMode\": \"Input\" }\n",
        "    ],\n",
        "    \"CaptureContentTypeHeader\": {\n",
        "       \"CsvContentTypes\": [\"text/csv\"],\n",
        "       \"JsonContentTypes\": [\"application/json\"]}}"
      ],
      "metadata": {
        "id": "bCUVdO7bdW1w"
      },
      "execution_count": null,
      "outputs": []
    },
    {
      "cell_type": "markdown",
      "source": [
        "#### Create a EndPoint configuration\n"
      ],
      "metadata": {
        "id": "E__oyQuA0KyY"
      }
    },
    {
      "cell_type": "code",
      "source": [
        "def create_endpoint_config(model_config, data_capture_config): \n",
        "    \"\"\"\n",
        "    model_config :  'string',\n",
        "    data_capture_comfig : 'dictionary'\n",
        "    \"\"\"\n",
        "    return sm_client.create_endpoint_config(\n",
        "                          EndpointConfigName=model_config,\n",
        "                          ProductionVariants=[\n",
        "                                  {\n",
        "                                      'VariantName': 'AllTraffic',       # all the traffic will be directed to this endpoint\n",
        "                                      'ModelName': model_config,         # model name\n",
        "                                      'InitialInstanceCount': 1,         # create only 1 instance for inference\n",
        "                                      'InstanceType': 'ml.m4.xlarge',\n",
        "                                      'InitialVariantWeight': 1.0,       # Determines initial traffic distribution among all of the models that you specify in the endpoint configuration. \n",
        "                                                                          # The traffic to a production variant is determined by the ratio of \n",
        "                                                                          # the VariantWeight to the sum of all VariantWeight values across all ProductionVariants. If unspecified, it defaults to 1.0.\n",
        "                          },\n",
        "                              \n",
        "                              ],\n",
        "                          DataCaptureConfig=data_capture_config            # capture input and output data to endpoint\n",
        "                          )\n",
        "\n",
        "\n",
        "\n",
        "\n",
        "try:\n",
        "\n",
        "    # create a endpoint configuration\n",
        "    endpoint_config = create_endpoint_config(training_job_name, data_capture_configuration)\n",
        "except Exception as e:\n",
        "    sm_client.delete_endpoint_config(EndpointConfigName=endpoint)\n",
        "    endpoint_config = create_endpoint_config(training_job_name, data_capture_configuration)\n",
        "\n",
        "print('Endpoint configuration created: '+ endpoint_config['EndpointConfigArn'])"
      ],
      "metadata": {
        "id": "8-Yiwqx2dW34"
      },
      "execution_count": null,
      "outputs": []
    },
    {
      "cell_type": "markdown",
      "source": [
        "  * To deploy the model, Amazon SageMaker must first copy your model artifacts and inference image onto the instance and set up a HTTPS endpoint to inferface with client applications or RESTful APIs."
      ],
      "metadata": {
        "id": "kxVXZ6nc8DDs"
      }
    },
    {
      "cell_type": "markdown",
      "source": [
        "### Batch Inferencing"
      ],
      "metadata": {
        "id": "gPvOduS78JKi"
      }
    },
    {
      "cell_type": "code",
      "source": [
        "# copy some rows from test dataset and use it for inferenece on the model endpoint\n",
        "!head -10 test_data.csv > test_sample.csv\n",
        "\n",
        "# copies dta to local directory"
      ],
      "metadata": {
        "id": "kKXMTu6AdW5s"
      },
      "execution_count": null,
      "outputs": []
    },
    {
      "cell_type": "code",
      "source": [
        "# send some inference requests to this endpoint.\n",
        "\n",
        "from sagemaker import RealTimePredictor\n",
        "from sagemaker.predictor import csv_serializer\n",
        "\n",
        "predictor = RealTimePredictor(endpoint=endpoint_name, content_type = 'text/csv')\n",
        "\n",
        "\n",
        "# open the test_sample and read each row as input or Xq\n",
        "# we ignore first 2 columns\n",
        "\n",
        "with open('test_sample.csv', 'r') as f:\n",
        "    for row in f:\n",
        "        payload = row.rstrip('\\n')\n",
        "        response = predictor.predict(data=payload[2:])\n",
        "\n",
        "        # after getting the response, sleep for some time\n",
        "        sleep(0.5)\n",
        "print('done!')"
      ],
      "metadata": {
        "id": "YPfqKppbdW7w"
      },
      "execution_count": null,
      "outputs": []
    },
    {
      "cell_type": "code",
      "source": [
        "# code to verify that Model Monitor is correctly capturing the incoming data.\n",
        "\n",
        "\n",
        "# Extract the captured json files.\n",
        "data_capture_prefix = '{}/monitoring'.format(prefix)\n",
        "\n",
        "# create a S3 client using boto3 session\n",
        "sess = boto3.Session()\n",
        "s3_client = sess.client('s3')\n",
        "\n",
        "current_endpoint_capture_prefix = '{}/datacapture/{}/AllTraffic'.format(data_capture_prefix, endpoint_name)\n",
        "print(current_endpoint_capture_prefix)\n",
        "\n",
        "result = s3_client.list_objects(Bucket=rawbucket, Prefix=current_endpoint_capture_prefix)\n",
        "\n",
        "capture_files = [capture_file.get(\"Key\") for capture_file in result.get('Contents')]\n",
        "print(\"Found Capture Files:\")\n",
        "print(\"\\n \".join(capture_files))\n",
        "\n",
        "\n",
        "capture_files[0]"
      ],
      "metadata": {
        "id": "EUtHKIJzdW9j"
      },
      "execution_count": null,
      "outputs": []
    },
    {
      "cell_type": "code",
      "source": [
        "# showing one the outputs from the data captured from the endpoint output\n",
        "\n",
        "# View contents of the captured file.\n",
        "def get_obj_body(bucket, obj_key):\n",
        "    return s3_client.get_object(Bucket=rawbucket, Key=obj_key).get('Body').read().decode(\"utf-8\")\n",
        "\n",
        "capture_file = get_obj_body(rawbucket, capture_files[0])\n",
        "\n",
        "# first load the json string fromat dict into python dict format\n",
        "# then convert back to json fromat string dictionary\n",
        "print(json.dumps(json.loads(capture_file.split('\\n')[5]), indent = 2, sort_keys =True))  \n",
        "\n",
        "\n"
      ],
      "metadata": {
        "id": "_beEPslzdW_o"
      },
      "execution_count": null,
      "outputs": []
    },
    {
      "cell_type": "markdown",
      "source": [
        "### Monitor the endpoint with SageMaker Model Monitor\n",
        "  * you enable sagemaker model monitoring for endpoint to monitor data drift\n",
        "  * Model Monitor provides the following types of monitoring:\n",
        "\n",
        "      * **[Monitor data quality](https://docs.aws.amazon.com/sagemaker/latest/dg/model-monitor-data-quality.html)** - Monitor drift in data quality.\n",
        "\n",
        "      * **Monitor model quality** - Monitor drift in model quality metrics, such as accuracy.\n",
        "\n",
        "      * **Monitor Bias Drift for Models in Production** - Monitor bias in your model's predictions.\n",
        "\n",
        "      * **Monitor Feature Attribution Drift for Models in Production** - Monitor drift in feature attribution."
      ],
      "metadata": {
        "id": "-c4wl93m-jq1"
      }
    },
    {
      "cell_type": "code",
      "source": [
        "model_prefix = prefix + \"/\" + endpoint_name     # to store the outputs of the Model Monitor.\n",
        "baseline_prefix = model_prefix + '/baselining'  # for baseline , data used to training\n",
        "baseline_data_prefix = baseline_prefix + '/data'  \n",
        "baseline_results_prefix = baseline_prefix + '/results'\n",
        "\n",
        "baseline_data_uri = 's3://{}/{}'.format(rawbucket,baseline_data_prefix)\n",
        "baseline_results_uri = 's3://{}/{}'.format(rawbucket, baseline_results_prefix)\n",
        "train_data_header_location = \"s3://\" + rawbucket + '/' + prefix + '/train_headers'\n",
        "\n",
        "print('Baseline data uri: {}'.format(baseline_data_uri))\n",
        "print('Baseline results uri: {}'.format(baseline_results_uri))\n",
        "print(train_data_header_location)"
      ],
      "metadata": {
        "id": "ro6mdRAGcsZd"
      },
      "execution_count": null,
      "outputs": []
    },
    {
      "cell_type": "markdown",
      "source": [
        "* We will create a baseline job for monitoring which will capture the underlying statistics of the data "
      ],
      "metadata": {
        "id": "cl5ULntIe7mR"
      }
    },
    {
      "cell_type": "code",
      "source": [
        "from sagemaker.model_monitor import DefaultModelMonitor\n",
        "from sagemaker.model_monitor.dataset_format import DatasetFormat\n",
        "\n",
        "# configure the baseline processing job instance\n",
        "my_default_monitor = DefaultModelMonitor(\n",
        "    role=role,\n",
        "    instance_count=1,\n",
        "    instance_type='ml.m5.xlarge',\n",
        "    volume_size_in_gb=20,\n",
        "    max_runtime_in_seconds=3600)\n",
        "\n",
        "# when we have our datset ready in S3, we ca run the baseline processing job\n",
        "# which will generate the baseline statistics and baseline constraints for our dataset\n",
        "# This is an prebuilt container , it'll store the data in output_s3_uri\n",
        "\n",
        "my_default_monitor.suggest_baseline(\n",
        "    baseline_dataset=os.path.join(train_data_header_location, 'train_data_with_headers.csv'),\n",
        "    dataset_format=DatasetFormat.csv(header=True),\n",
        "    output_s3_uri=baseline_results_uri,\n",
        "    wait=True\n",
        ")\n",
        "\n",
        "# this will generate a lot spark jobs, so just ignore them"
      ],
      "metadata": {
        "id": "cpf9gK_ydXBw"
      },
      "execution_count": null,
      "outputs": []
    },
    {
      "cell_type": "code",
      "source": [
        "# lets look at the output of the baseline jobs\n",
        "\n",
        "sess = boto3.Session()\n",
        "s3_client = sess.client('s3')\n",
        "\n",
        "\n",
        "result = s3_client.list_objects(Bucket=rawbucket, Prefix=baseline_results_prefix)\n",
        "report_files = [report_file.get(\"Key\") for report_file in result.get('Contents')]\n",
        "print(\"Found Files:\")\n",
        "print(\"\\n \".join(report_files))\n",
        "\n",
        "# we can see two files constraints.json and statistics.json. \n",
        "# get the latest baseline job \n",
        "baseline_job = my_default_monitor.latest_baselining_job\n",
        "\n",
        "# converts the statsics.json data into pandas dataframe\n",
        "schema_df = pd.io.json.json_normalize(baseline_job.baseline_statistics().body_dict[\"features\"])\n",
        "schema_df\n",
        "\n",
        "constraints_df = pd.io.json.json_normalize(baseline_job.suggested_constraints().body_dict[\"features\"])\n",
        "constraints_df"
      ],
      "metadata": {
        "id": "pYKZaLAtdXDo"
      },
      "execution_count": null,
      "outputs": []
    },
    {
      "cell_type": "markdown",
      "source": [
        "### We want to frequently check for data drift, so lets setup how frequently we want to perform monitoring"
      ],
      "metadata": {
        "id": "8A5_bP0GlmJw"
      }
    },
    {
      "cell_type": "code",
      "source": [
        "\n",
        "# Model Monitor will produce a report consisting of all the violations it finds, they'll be stored here\n",
        "reports_prefix = '{}/reports'.format(prefix)   \n",
        "s3_report_path = 's3://{}/{}'.format(rawbucket, reports_prefix)\n",
        "print(s3_report_path)\n",
        "\n",
        "from sagemaker.model_monitor import CronExpressionGenerator\n",
        "from time import gmtime, strftime\n",
        "\n",
        "mon_schedule_name = 'Built-train-deploy-model-monitor-schedule-' + strftime(\"%Y-%m-%d-%H-%M-%S\", gmtime())\n",
        "\n",
        "my_default_monitor.create_monitoring_schedule(\n",
        "    monitor_schedule_name=mon_schedule_name,\n",
        "    endpoint_input=predictor.endpoint,\n",
        "    output_s3_uri=s3_report_path,\n",
        "    statistics=my_default_monitor.baseline_statistics(),\n",
        "    constraints=my_default_monitor.suggested_constraints(),\n",
        "    schedule_cron_expression=CronExpressionGenerator.hourly(),\n",
        "    enable_cloudwatch_metrics=True,\n",
        "\n",
        ")\n",
        "\n",
        "# Note that this code enables Amazon CloudWatch Metrics, which instructs Model Monitor to send outputs to CloudWatch\n",
        "# You can use this approach to trigger alarms using CloudWatch Alarms to let engineers or admins know when data drift has been detected"
      ],
      "metadata": {
        "id": "EfjX4Z5JdXFf"
      },
      "execution_count": null,
      "outputs": []
    },
    {
      "cell_type": "markdown",
      "source": [
        "### Test SageMaker Model Monitor performance\n",
        "  * We will evaluate the performance of model monitor. we will feed a sample of data which will be different form original data. We modify the distribution of certain features and in the test dataset to check if data monitor detects some change"
      ],
      "metadata": {
        "id": "-WJkHSeVsTs8"
      }
    },
    {
      "cell_type": "code",
      "source": [
        "# here is a sampel of data we will be using\n",
        "\n",
        "COLS = data.columns\n",
        "test_full = pd.read_csv('test_data.csv', names = ['Label'] + ['PAY_AMT1','BILL_AMT1'] + list(COLS[1:])[:11] + list(COLS[1:])[12:17] + list(COLS[1:])[18:]\n",
        ")\n",
        "test_full.head()"
      ],
      "metadata": {
        "id": "5eqz2FpFdXHm"
      },
      "execution_count": null,
      "outputs": []
    },
    {
      "cell_type": "code",
      "source": [
        "faketestdata = test_full\n",
        "# changing some columns types, values and basic distribution\n",
        "\n",
        "faketestdata['EDUCATION'] = -faketestdata['EDUCATION'].astype(float)\n",
        "faketestdata['BILL_AMT2']= (faketestdata['BILL_AMT2']//10).astype(float)\n",
        "faketestdata['AGE']= (faketestdata['AGE']-10).astype(float)\n",
        "\n",
        "faketestdata.head()\n",
        "faketestdata.drop(columns=['Label']).to_csv('test-data-input-cols.csv', index = None, header=None)"
      ],
      "metadata": {
        "id": "V44v6kDydXJm"
      },
      "execution_count": null,
      "outputs": []
    },
    {
      "cell_type": "markdown",
      "source": [
        "* why use runtime.sagemaker ? \n",
        "  * when we have to invoke the endpoint we use sagemaker runtime which is created using boto3.Client() creating a low level client representing Sagemaker runtime"
      ],
      "metadata": {
        "id": "VFDEvDrExQYA"
      }
    },
    {
      "cell_type": "code",
      "source": [
        "from threading import Thread\n",
        "\n",
        "runtime_client = boto3.client('runtime.sagemaker')\n",
        "\n",
        "# (just repeating code from above for convenience/ able to run this section independently)\n",
        "def invoke_endpoint(ep_name, file_name, runtime_client):\n",
        "    with open(file_name, 'r') as f:\n",
        "        for row in f:\n",
        "            payload = row.rstrip('\\n')\n",
        "            response = runtime_client.invoke_endpoint(EndpointName=ep_name,\n",
        "                                          ContentType='text/csv', \n",
        "                                          Body=payload)\n",
        "            time.sleep(1)\n",
        "            \n",
        "def invoke_endpoint_forever():\n",
        "    while True:\n",
        "        invoke_endpoint(endpoint, 'test-data-input-cols.csv', runtime_client)\n",
        "        \n",
        "thread = Thread(target = invoke_endpoint_forever)\n",
        "thread.start()\n",
        "# Note that you need to stop the kernel to stop the invocations"
      ],
      "metadata": {
        "id": "aZnVWmtMdXLm"
      },
      "execution_count": null,
      "outputs": []
    },
    {
      "cell_type": "code",
      "source": [
        "desc_schedule_result = my_default_monitor.describe_schedule()\n",
        "print('Schedule status: {}'.format(desc_schedule_result['MonitoringScheduleStatus']))"
      ],
      "metadata": {
        "id": "j6gdQfCgdXNt"
      },
      "execution_count": null,
      "outputs": []
    },
    {
      "cell_type": "code",
      "source": [],
      "metadata": {
        "id": "fj2AeZzAdXRS"
      },
      "execution_count": null,
      "outputs": []
    },
    {
      "cell_type": "code",
      "source": [],
      "metadata": {
        "id": "6jX_iG8BdXTa"
      },
      "execution_count": null,
      "outputs": []
    },
    {
      "cell_type": "code",
      "source": [],
      "metadata": {
        "id": "NgKeJbmkdXXW"
      },
      "execution_count": null,
      "outputs": []
    },
    {
      "cell_type": "code",
      "source": [],
      "metadata": {
        "id": "1W6cAPhndXbI"
      },
      "execution_count": null,
      "outputs": []
    },
    {
      "cell_type": "code",
      "source": [],
      "metadata": {
        "id": "UleP6r24dXdU"
      },
      "execution_count": null,
      "outputs": []
    },
    {
      "cell_type": "code",
      "source": [],
      "metadata": {
        "id": "70jFJNHZdXhE"
      },
      "execution_count": null,
      "outputs": []
    },
    {
      "cell_type": "code",
      "source": [],
      "metadata": {
        "id": "bA0v-FOkdXjg"
      },
      "execution_count": null,
      "outputs": []
    },
    {
      "cell_type": "code",
      "source": [],
      "metadata": {
        "id": "sjVGJbtWdXlQ"
      },
      "execution_count": null,
      "outputs": []
    },
    {
      "cell_type": "code",
      "source": [],
      "metadata": {
        "id": "ILlm_MWpdXnY"
      },
      "execution_count": null,
      "outputs": []
    },
    {
      "cell_type": "code",
      "source": [],
      "metadata": {
        "id": "LAR4TtmmdXpY"
      },
      "execution_count": null,
      "outputs": []
    },
    {
      "cell_type": "code",
      "source": [],
      "metadata": {
        "id": "VMn4kCEedXrM"
      },
      "execution_count": null,
      "outputs": []
    },
    {
      "cell_type": "code",
      "source": [],
      "metadata": {
        "id": "4Wgg7ppOdXvY"
      },
      "execution_count": null,
      "outputs": []
    },
    {
      "cell_type": "code",
      "source": [],
      "metadata": {
        "id": "XoBAsM9TdXxo"
      },
      "execution_count": null,
      "outputs": []
    },
    {
      "cell_type": "code",
      "source": [],
      "metadata": {
        "id": "L7khiLSCdX1g"
      },
      "execution_count": null,
      "outputs": []
    },
    {
      "cell_type": "code",
      "source": [],
      "metadata": {
        "id": "UcM--hlYdX30"
      },
      "execution_count": null,
      "outputs": []
    },
    {
      "cell_type": "code",
      "source": [],
      "metadata": {
        "id": "7htCN-kTdX6U"
      },
      "execution_count": null,
      "outputs": []
    },
    {
      "cell_type": "code",
      "source": [],
      "metadata": {
        "id": "xzuUzaIWdX8E"
      },
      "execution_count": null,
      "outputs": []
    },
    {
      "cell_type": "code",
      "source": [],
      "metadata": {
        "id": "LZmLvZhgdX-L"
      },
      "execution_count": null,
      "outputs": []
    },
    {
      "cell_type": "code",
      "source": [],
      "metadata": {
        "id": "i9RU4gZndYAM"
      },
      "execution_count": null,
      "outputs": []
    },
    {
      "cell_type": "code",
      "source": [],
      "metadata": {
        "id": "zs9QIYuGdYCE"
      },
      "execution_count": null,
      "outputs": []
    },
    {
      "cell_type": "code",
      "source": [],
      "metadata": {
        "id": "eVjkEEv9dYD6"
      },
      "execution_count": null,
      "outputs": []
    },
    {
      "cell_type": "code",
      "source": [],
      "metadata": {
        "id": "562Ib5n2dYF-"
      },
      "execution_count": null,
      "outputs": []
    },
    {
      "cell_type": "code",
      "source": [],
      "metadata": {
        "id": "BCNcZnjIdYIM"
      },
      "execution_count": null,
      "outputs": []
    },
    {
      "cell_type": "code",
      "source": [],
      "metadata": {
        "id": "tZtxbaJmdYJ6"
      },
      "execution_count": null,
      "outputs": []
    },
    {
      "cell_type": "code",
      "source": [],
      "metadata": {
        "id": "XEW_ekpUdYMC"
      },
      "execution_count": null,
      "outputs": []
    },
    {
      "cell_type": "code",
      "source": [],
      "metadata": {
        "id": "rAH5C_2ldYPm"
      },
      "execution_count": null,
      "outputs": []
    },
    {
      "cell_type": "code",
      "source": [],
      "metadata": {
        "id": "Z9emMZDcdYR2"
      },
      "execution_count": null,
      "outputs": []
    },
    {
      "cell_type": "code",
      "source": [],
      "metadata": {
        "id": "PIgY5d7gdYUi"
      },
      "execution_count": null,
      "outputs": []
    },
    {
      "cell_type": "code",
      "source": [],
      "metadata": {
        "id": "sI6HuiyCdYWK"
      },
      "execution_count": null,
      "outputs": []
    },
    {
      "cell_type": "code",
      "source": [],
      "metadata": {
        "id": "db7t0KnrdYYW"
      },
      "execution_count": null,
      "outputs": []
    },
    {
      "cell_type": "code",
      "source": [],
      "metadata": {
        "id": "K7PUMzPUdYaS"
      },
      "execution_count": null,
      "outputs": []
    },
    {
      "cell_type": "code",
      "source": [],
      "metadata": {
        "id": "ggKGKiyJdYcG"
      },
      "execution_count": null,
      "outputs": []
    },
    {
      "cell_type": "code",
      "source": [],
      "metadata": {
        "id": "l8ew7j7BdYeW"
      },
      "execution_count": null,
      "outputs": []
    },
    {
      "cell_type": "code",
      "source": [],
      "metadata": {
        "id": "EbcCj8LbdYgk"
      },
      "execution_count": null,
      "outputs": []
    },
    {
      "cell_type": "code",
      "source": [],
      "metadata": {
        "id": "49SBOaShdYiW"
      },
      "execution_count": null,
      "outputs": []
    },
    {
      "cell_type": "code",
      "source": [],
      "metadata": {
        "id": "JGuT1TzmdYka"
      },
      "execution_count": null,
      "outputs": []
    },
    {
      "cell_type": "code",
      "source": [],
      "metadata": {
        "id": "D_l8m-wvdYmS"
      },
      "execution_count": null,
      "outputs": []
    },
    {
      "cell_type": "code",
      "source": [],
      "metadata": {
        "id": "4342wyPMdYoU"
      },
      "execution_count": null,
      "outputs": []
    },
    {
      "cell_type": "code",
      "source": [],
      "metadata": {
        "id": "nmQgQ7izdYqU"
      },
      "execution_count": null,
      "outputs": []
    },
    {
      "cell_type": "code",
      "source": [],
      "metadata": {
        "id": "8np2WfpddYsJ"
      },
      "execution_count": null,
      "outputs": []
    }
  ]
}